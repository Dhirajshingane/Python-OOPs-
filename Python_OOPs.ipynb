{
  "nbformat": 4,
  "nbformat_minor": 0,
  "metadata": {
    "colab": {
      "provenance": []
    },
    "kernelspec": {
      "name": "python3",
      "display_name": "Python 3"
    },
    "language_info": {
      "name": "python"
    }
  },
  "cells": [
    {
      "cell_type": "markdown",
      "source": [
        "# Python OOPs Assignment\n",
        "\n",
        "---\n",
        "\n"
      ],
      "metadata": {
        "id": "ZsJALBuq3IGY"
      }
    },
    {
      "cell_type": "markdown",
      "source": [
        "1. What is Object-Oriented Programming (OOP)?"
      ],
      "metadata": {
        "id": "gstfcvwF3zIg"
      }
    },
    {
      "cell_type": "markdown",
      "source": [
        "Ans ->\n",
        "\n",
        "Object-Oriented Programming (OOP) is a programming paradigm based on the concept of \"objects,\" which are instances of classes. It organizes software design around data, or objects, rather than functions and logic. OOP helps to model real-world entities using classes and objects and supports key concepts like encapsulation, inheritance, polymorphism, and abstraction."
      ],
      "metadata": {
        "id": "08e8V8xU4Fzt"
      }
    },
    {
      "cell_type": "markdown",
      "source": [
        "2. What is a class in OOP?"
      ],
      "metadata": {
        "id": "I7eSzeog30pv"
      }
    },
    {
      "cell_type": "markdown",
      "source": [
        "Ans ->\n",
        "\n",
        "A class is a blueprint or template for creating objects. It defines a set of attributes (data) and methods (functions) that the created objects will have. Classes encapsulate data for the object and define behaviors through methods."
      ],
      "metadata": {
        "id": "GS2vmXjl4KKy"
      }
    },
    {
      "cell_type": "code",
      "source": [
        "class Car:\n",
        "    def __init__(self, brand, model):\n",
        "        self.brand = brand\n",
        "        self.model = model\n",
        "\n",
        "    def start(self):\n",
        "        print(f\"{self.brand} {self.model} is starting.\")\n"
      ],
      "metadata": {
        "id": "--TGTt_M4N-b"
      },
      "execution_count": 1,
      "outputs": []
    },
    {
      "cell_type": "markdown",
      "source": [
        "3. What is an object in OOP?"
      ],
      "metadata": {
        "id": "0r0GQSao31dj"
      }
    },
    {
      "cell_type": "markdown",
      "source": [
        "Ans ->\n",
        "\n",
        "An object is an instance of a class. When a class is defined, no memory is allocated. When an object is created (instantiated), memory is allocated, and the object contains the actual data.\n",
        "\n",
        "Example:"
      ],
      "metadata": {
        "id": "hO2MoBb74TPF"
      }
    },
    {
      "cell_type": "code",
      "source": [
        "my_car = Car(\"Toyota\", \"Corolla\")\n",
        "my_car.start()  # Output: Toyota Corolla is starting.\n"
      ],
      "metadata": {
        "colab": {
          "base_uri": "https://localhost:8080/"
        },
        "id": "s_lOieX_4WGX",
        "outputId": "1a3b7a94-5b91-443d-87eb-e41dd9f072c0"
      },
      "execution_count": 2,
      "outputs": [
        {
          "output_type": "stream",
          "name": "stdout",
          "text": [
            "Toyota Corolla is starting.\n"
          ]
        }
      ]
    },
    {
      "cell_type": "markdown",
      "source": [
        "4. What is the difference between abstraction and encapsulation?"
      ],
      "metadata": {
        "id": "jC1Vnglf329X"
      }
    },
    {
      "cell_type": "markdown",
      "source": [
        "Ans ->\n",
        "\n",
        "Abstraction: It means hiding the complex implementation details and showing only the essential features of the object. It focuses on what an object does instead of how it does it.\n",
        "\n",
        "Encapsulation: It is the mechanism of wrapping data (attributes) and methods that operate on the data into a single unit (class), and restricting access to some of the object's components. It hides the internal state and protects object integrity by preventing outside interference.\n",
        "\n",
        "In short:\n",
        "\n",
        "Abstraction hides complexity from the user.\n",
        "\n",
        "Encapsulation hides the internal state and restricts access."
      ],
      "metadata": {
        "id": "tUQo3zv44aRU"
      }
    },
    {
      "cell_type": "markdown",
      "source": [
        "5. What are dunder methods in Python?"
      ],
      "metadata": {
        "id": "LuG9A2ts34jL"
      }
    },
    {
      "cell_type": "markdown",
      "source": [
        "Ans ->\n",
        "\n",
        "Dunder methods (double underscore methods) are special methods in Python with names that begin and end with double underscores, like __init__, __str__, __repr__, etc. They are also called magic methods and enable custom behavior for built-in operations, like object initialization, string representation, operator overloading, etc.\n",
        "\n",
        "Example:\n",
        "\n",
        "__init__ is called when an object is created.\n",
        "\n",
        "__str__ defines the string representation of the object."
      ],
      "metadata": {
        "id": "LC25a8bE4dnN"
      }
    },
    {
      "cell_type": "markdown",
      "source": [
        "6. Explain the concept of inheritance in OOP"
      ],
      "metadata": {
        "id": "1PaslJjP38I3"
      }
    },
    {
      "cell_type": "markdown",
      "source": [
        "Ans->\n",
        "\n",
        "Inheritance allows one class (child or subclass) to inherit attributes and methods from another class (parent or superclass). This promotes code reuse and hierarchical relationships.\n",
        "\n",
        "Example:"
      ],
      "metadata": {
        "id": "FUnAB6dx4fVM"
      }
    },
    {
      "cell_type": "code",
      "source": [
        "class Vehicle:\n",
        "    def move(self):\n",
        "        print(\"Moving\")\n",
        "\n",
        "class Car(Vehicle):\n",
        "    def honk(self):\n",
        "        print(\"Honking\")\n",
        "\n",
        "my_car = Car()\n",
        "my_car.move()  # Inherited method\n",
        "my_car.honk()  # Own method\n"
      ],
      "metadata": {
        "colab": {
          "base_uri": "https://localhost:8080/"
        },
        "id": "X5pmMcU64jNr",
        "outputId": "5167138c-755f-487d-a72a-9f03ed877d2e"
      },
      "execution_count": 3,
      "outputs": [
        {
          "output_type": "stream",
          "name": "stdout",
          "text": [
            "Moving\n",
            "Honking\n"
          ]
        }
      ]
    },
    {
      "cell_type": "markdown",
      "source": [
        "7. What is polymorphism in OOP?"
      ],
      "metadata": {
        "id": "4BF5SF9x38qg"
      }
    },
    {
      "cell_type": "markdown",
      "source": [
        "Ans ->\n",
        "\n",
        "Polymorphism means \"many forms.\" It allows methods to do different things based on the object calling them, even if they share the same name. It enables a single interface to represent different underlying forms (data types).\n",
        "\n",
        "Two common types in Python:\n",
        "\n",
        "Method Overriding — Subclass provides its own version of a method.\n",
        "\n",
        "Duck Typing — Python's dynamic typing allows different objects to be used interchangeably if they have the same methods."
      ],
      "metadata": {
        "id": "Wp_EiaUW4nSF"
      }
    },
    {
      "cell_type": "markdown",
      "source": [
        "8. How is encapsulation achieved in Python?"
      ],
      "metadata": {
        "id": "K7gp6LIp3-bL"
      }
    },
    {
      "cell_type": "markdown",
      "source": [
        "Ans ->\n",
        "\n",
        "In Python, encapsulation is achieved using:\n",
        "\n",
        "Private attributes/methods: Prefixing names with double underscores __ makes them name-mangled and harder to access from outside.\n",
        "\n",
        "Protected attributes/methods: Prefixing names with a single underscore _ is a convention to indicate “internal use.”\n",
        "\n",
        "Example:"
      ],
      "metadata": {
        "id": "8aAHJgOA4sIU"
      }
    },
    {
      "cell_type": "code",
      "source": [
        "class Person:\n",
        "    def __init__(self, name):\n",
        "        self.__name = name  # private attribute\n",
        "\n",
        "    def get_name(self):\n",
        "        return self.__name\n"
      ],
      "metadata": {
        "id": "nLPZrFeu4vSU"
      },
      "execution_count": 4,
      "outputs": []
    },
    {
      "cell_type": "markdown",
      "source": [
        "9. What is a constructor in Python?"
      ],
      "metadata": {
        "id": "nPs1DUje4AGL"
      }
    },
    {
      "cell_type": "markdown",
      "source": [
        "Ans ->\n",
        "\n",
        "A constructor is a special method __init__() that is automatically called when an object is created. It initializes the object's attributes.\n",
        "\n",
        "Example:"
      ],
      "metadata": {
        "id": "5UExqt3o4yIz"
      }
    },
    {
      "cell_type": "code",
      "source": [
        "class Person:\n",
        "    def __init__(self, name):\n",
        "        self.name = name\n"
      ],
      "metadata": {
        "id": "8oKQidFD40uU"
      },
      "execution_count": 5,
      "outputs": []
    },
    {
      "cell_type": "markdown",
      "source": [
        "10. What are class and static methods in Python?"
      ],
      "metadata": {
        "id": "5TtdAukI4Bbr"
      }
    },
    {
      "cell_type": "markdown",
      "source": [
        "Ans ->\n",
        "\n",
        "Class Methods: Defined with @classmethod decorator, take the class itself (cls) as the first argument instead of an instance. They can access and modify class state.\n",
        "\n",
        "Static Methods: Defined with @staticmethod decorator, do not take self or cls. They behave like regular functions inside a class namespace.\n",
        "\n",
        "Example:"
      ],
      "metadata": {
        "id": "vW77fnYs43cz"
      }
    },
    {
      "cell_type": "code",
      "source": [
        "class MyClass:\n",
        "    count = 0\n",
        "\n",
        "    @classmethod\n",
        "    def increment(cls):\n",
        "        cls.count += 1\n",
        "\n",
        "    @staticmethod\n",
        "    def greet():\n",
        "        print(\"Hello!\")\n"
      ],
      "metadata": {
        "id": "v6yKJG2Q459b"
      },
      "execution_count": 6,
      "outputs": []
    },
    {
      "cell_type": "markdown",
      "source": [
        "11. What is method averloading in Python?"
      ],
      "metadata": {
        "id": "e6AhaOiC4C4j"
      }
    },
    {
      "cell_type": "markdown",
      "source": [
        "Ans ->\n",
        "\n",
        "Python does not support method overloading in the traditional sense (multiple methods with the same name but different parameters). If you define multiple methods with the same name, the last one overrides the previous ones.\n",
        "\n",
        "However, method overloading can be simulated using:\n",
        "\n",
        "Default arguments\n",
        "\n",
        "Variable length arguments (*args, **kwargs)\n",
        "\n",
        "Example:"
      ],
      "metadata": {
        "id": "9aZSBhtl4-BA"
      }
    },
    {
      "cell_type": "code",
      "source": [
        "class Example:\n",
        "    def greet(self, name=None):\n",
        "        if name:\n",
        "            print(f\"Hello, {name}\")\n",
        "        else:\n",
        "            print(\"Hello\")\n"
      ],
      "metadata": {
        "id": "xPOxJTRj5AuI"
      },
      "execution_count": 7,
      "outputs": []
    },
    {
      "cell_type": "markdown",
      "source": [
        "12. What is method overriding in OOP?"
      ],
      "metadata": {
        "id": "jeNa8ZPH5daX"
      }
    },
    {
      "cell_type": "markdown",
      "source": [
        "Ans ->\n",
        "\n",
        "Method overriding occurs when a subclass provides a specific implementation of a method that is already defined in its parent class. This allows the subclass to modify or extend the behavior of the inherited method."
      ],
      "metadata": {
        "id": "_HmUevHr6E1k"
      }
    },
    {
      "cell_type": "code",
      "source": [
        "class Animal:\n",
        "    def speak(self):\n",
        "        print(\"Animal speaks\")\n",
        "\n",
        "class Dog(Animal):\n",
        "    def speak(self):\n",
        "        print(\"Dog barks\")  # Overriding the parent method\n"
      ],
      "metadata": {
        "id": "O-1_DUEt6Hxd"
      },
      "execution_count": 8,
      "outputs": []
    },
    {
      "cell_type": "markdown",
      "source": [
        "13. What is a property decorator in Python?"
      ],
      "metadata": {
        "id": "c7NPITwc5eNf"
      }
    },
    {
      "cell_type": "markdown",
      "source": [
        "Ans ->\n",
        "\n",
        "The @property decorator allows you to define a method that can be accessed like an attribute. It is used to implement getter, setter, and deleter functionalities in a clean way."
      ],
      "metadata": {
        "id": "iclWFIIE6KpA"
      }
    },
    {
      "cell_type": "code",
      "source": [
        "class Person:\n",
        "    def __init__(self, name):\n",
        "        self._name = name\n",
        "\n",
        "    @property\n",
        "    def name(self):\n",
        "        return self._name\n"
      ],
      "metadata": {
        "id": "khdQg_DE6NZv"
      },
      "execution_count": 9,
      "outputs": []
    },
    {
      "cell_type": "markdown",
      "source": [
        "14. Why is polymorphism important in OOP?"
      ],
      "metadata": {
        "id": "dj8xnZlk5fsY"
      }
    },
    {
      "cell_type": "markdown",
      "source": [
        "Ans ->\n",
        "\n",
        "Polymorphism allows objects of different classes to be treated as instances of the same class through a shared interface. It enhances flexibility, code reuse, and extensibility, enabling functions to use objects of different types interchangeably."
      ],
      "metadata": {
        "id": "radwUZTY6QBZ"
      }
    },
    {
      "cell_type": "markdown",
      "source": [
        "15. What is an abstract class in Python?"
      ],
      "metadata": {
        "id": "5x2v6bRG5hWe"
      }
    },
    {
      "cell_type": "markdown",
      "source": [
        "Ans ->\n",
        "\n",
        "An abstract class cannot be instantiated and serves as a blueprint for other classes. It contains one or more abstract methods, which must be implemented by its subclasses. Use the abc module:"
      ],
      "metadata": {
        "id": "J_YNniLF6TMw"
      }
    },
    {
      "cell_type": "code",
      "source": [
        "from abc import ABC, abstractmethod\n",
        "\n",
        "class Animal(ABC):\n",
        "    @abstractmethod\n",
        "    def sound(self):\n",
        "        pass\n"
      ],
      "metadata": {
        "id": "GIz-1CT36Ww1"
      },
      "execution_count": 10,
      "outputs": []
    },
    {
      "cell_type": "markdown",
      "source": [
        "16. What are the advantages of OOP?"
      ],
      "metadata": {
        "id": "YcVVSQjC5i2h"
      }
    },
    {
      "cell_type": "markdown",
      "source": [
        "Ans ->\n",
        "\n",
        "Modularity: Code is organized into objects.\n",
        "\n",
        "Reusability: Inheritance allows reuse of code.\n",
        "\n",
        "Scalability: Easy to add new features.\n",
        "\n",
        "Maintainability: Easier to debug and update.\n",
        "\n",
        "Encapsulation: Protects data by hiding it.\n",
        "\n",
        "Abstraction: Simplifies complex systems."
      ],
      "metadata": {
        "id": "qwmv7kOi6aYP"
      }
    },
    {
      "cell_type": "markdown",
      "source": [
        "17. What is the difference between a class variable and an instance variable?"
      ],
      "metadata": {
        "id": "CWaNo35G5lCX"
      }
    },
    {
      "cell_type": "markdown",
      "source": [
        "Ans ->\n",
        "\n",
        "Class Variable: Shared by all instances of the class.\n",
        "\n",
        "Instance Variable: Unique to each object."
      ],
      "metadata": {
        "id": "KzLCrjaU6dln"
      }
    },
    {
      "cell_type": "code",
      "source": [
        "class Car:\n",
        "    wheels = 4  # Class variable\n",
        "    def __init__(self, color):\n",
        "        self.color = color  # Instance variable\n"
      ],
      "metadata": {
        "id": "iSdJwc2A6f6L"
      },
      "execution_count": 11,
      "outputs": []
    },
    {
      "cell_type": "markdown",
      "source": [
        "18. What is multiple inheritance in Python?"
      ],
      "metadata": {
        "id": "VtZnNTHn5mxw"
      }
    },
    {
      "cell_type": "markdown",
      "source": [
        "Ans ->\n",
        "\n",
        "Multiple inheritance allows a class to inherit from more than one parent class. Python supports it, but it should be used carefully due to potential conflicts (resolved using Method Resolution Order - MRO)."
      ],
      "metadata": {
        "id": "r8Oo8h5s6i-Q"
      }
    },
    {
      "cell_type": "code",
      "source": [
        "class A:\n",
        "    pass\n",
        "class B:\n",
        "    pass\n",
        "class C(A, B):  # Inherits from both A and B\n",
        "    pass\n"
      ],
      "metadata": {
        "id": "DBWWsAP46mQt"
      },
      "execution_count": 12,
      "outputs": []
    },
    {
      "cell_type": "markdown",
      "source": [
        "19. Explain the purpose of \"_str_and__repr__ methods in Python."
      ],
      "metadata": {
        "id": "L1fVeGTi5oGD"
      }
    },
    {
      "cell_type": "markdown",
      "source": [
        "Ans ->\n",
        "\n",
        "__str__: Returns a user-friendly string representation (used by print()).\n",
        "\n",
        "__repr__: Returns an unambiguous string used for debugging."
      ],
      "metadata": {
        "id": "9d9x02QR6pfQ"
      }
    },
    {
      "cell_type": "code",
      "source": [
        "class Book:\n",
        "    def __str__(self):\n",
        "        return \"Readable Book\"\n",
        "\n",
        "    def __repr__(self):\n",
        "        return \"Book(title='Title', author='Author')\"\n"
      ],
      "metadata": {
        "id": "_us4zFnK6rv_"
      },
      "execution_count": 13,
      "outputs": []
    },
    {
      "cell_type": "markdown",
      "source": [
        "\n",
        "20. What is the significance of the super()' function in Python?"
      ],
      "metadata": {
        "id": "H--RH3jW5pz4"
      }
    },
    {
      "cell_type": "markdown",
      "source": [
        "Ans ->\n",
        "\n",
        "super() is used to call a method from a parent class. It's useful for extending the behavior of inherited methods, especially in constructors and method overrides."
      ],
      "metadata": {
        "id": "Ocfz9okZ6urN"
      }
    },
    {
      "cell_type": "code",
      "source": [
        "class Parent:\n",
        "    def greet(self):\n",
        "        print(\"Hello from Parent\")\n",
        "\n",
        "class Child(Parent):\n",
        "    def greet(self):\n",
        "        super().greet()\n",
        "        print(\"Hello from Child\")\n"
      ],
      "metadata": {
        "id": "aDdafdtO6zyi"
      },
      "execution_count": 14,
      "outputs": []
    },
    {
      "cell_type": "markdown",
      "source": [
        "21. What is the significance of the_del_ method in Python?"
      ],
      "metadata": {
        "id": "0T74pis65rpH"
      }
    },
    {
      "cell_type": "markdown",
      "source": [
        "Ans ->\n",
        "\n",
        "The __del__() method is called when an object is about to be destroyed (like a destructor in C++). It's used for cleanup activities like closing files or network connections."
      ],
      "metadata": {
        "id": "Dr-7u6YC63OY"
      }
    },
    {
      "cell_type": "code",
      "source": [
        "class Demo:\n",
        "    def __del__(self):\n",
        "        print(\"Object is being deleted\")\n"
      ],
      "metadata": {
        "id": "p_zYgriB67VU"
      },
      "execution_count": 15,
      "outputs": []
    },
    {
      "cell_type": "markdown",
      "source": [
        "22. What is the difference between @staticmethod and @classmethod in Python?"
      ],
      "metadata": {
        "id": "esXK6SIf5u1e"
      }
    },
    {
      "cell_type": "markdown",
      "source": [
        "Ans ->\n",
        "\n",
        "| Feature           | `@staticmethod`    | `@classmethod`                     |\n",
        "| ----------------- | ------------------ | ---------------------------------- |\n",
        "| First Argument    | No `self` or `cls` | Takes `cls` as first argument      |\n",
        "| Access Class Data | No                 | Yes                                |\n",
        "| Use Case          | Utility functions  | Factory methods, class-level logic |\n"
      ],
      "metadata": {
        "id": "52mLKf6r6-Cc"
      }
    },
    {
      "cell_type": "markdown",
      "source": [
        "\n",
        "23. How does polymorphism work in Python with inheritance?"
      ],
      "metadata": {
        "id": "xDq8ruch5vST"
      }
    },
    {
      "cell_type": "markdown",
      "source": [
        "Ans ->\n",
        "\n",
        "Polymorphism in inheritance allows a subclass to override a method of the parent class, enabling different behaviors while using the same interface."
      ],
      "metadata": {
        "id": "q1Ik7uCT7B1r"
      }
    },
    {
      "cell_type": "code",
      "source": [
        "class Bird:\n",
        "    def fly(self):\n",
        "        print(\"Bird flies\")\n",
        "\n",
        "class Sparrow(Bird):\n",
        "    def fly(self):\n",
        "        print(\"Sparrow flies low\")\n",
        "\n",
        "class Eagle(Bird):\n",
        "    def fly(self):\n",
        "        print(\"Eagle flies high\")\n",
        "\n",
        "def make_fly(bird):\n",
        "    bird.fly()\n",
        "\n",
        "make_fly(Sparrow())\n",
        "make_fly(Eagle())\n"
      ],
      "metadata": {
        "colab": {
          "base_uri": "https://localhost:8080/"
        },
        "id": "vDr8E6xX7FMf",
        "outputId": "baef2126-ae04-4fdc-acf9-aecbadd40dc6"
      },
      "execution_count": 16,
      "outputs": [
        {
          "output_type": "stream",
          "name": "stdout",
          "text": [
            "Sparrow flies low\n",
            "Eagle flies high\n"
          ]
        }
      ]
    },
    {
      "cell_type": "markdown",
      "source": [
        "24. What is method chaining in Python OOP?"
      ],
      "metadata": {
        "id": "tEeTYIPI5w9K"
      }
    },
    {
      "cell_type": "markdown",
      "source": [
        "Ans ->\n",
        "\n",
        "Method chaining is calling multiple methods on the same object in a single line by returning self at the end of each method."
      ],
      "metadata": {
        "id": "cC79jUCx7Hsr"
      }
    },
    {
      "cell_type": "code",
      "source": [
        "class Person:\n",
        "    def set_name(self, name):\n",
        "        self.name = name\n",
        "        return self\n",
        "\n",
        "    def set_age(self, age):\n",
        "        self.age = age\n",
        "        return self\n",
        "\n",
        "p = Person().set_name(\"John\").set_age(25)\n"
      ],
      "metadata": {
        "id": "0RKrz7sy7LMI"
      },
      "execution_count": 17,
      "outputs": []
    },
    {
      "cell_type": "markdown",
      "source": [
        "25. What is the purpose of the_call method in Python?"
      ],
      "metadata": {
        "id": "-tpRndEx5yg8"
      }
    },
    {
      "cell_type": "markdown",
      "source": [
        "Ans ->\n",
        "\n",
        "The __call__() method allows an object to be called like a function. It adds function-like behavior to objects."
      ],
      "metadata": {
        "id": "BesiXQRZ7ONh"
      }
    },
    {
      "cell_type": "code",
      "source": [
        "class Adder:\n",
        "    def __call__(self, a, b):\n",
        "        return a + b\n",
        "\n",
        "add = Adder()\n",
        "print(add(2, 3))  # Output: 5\n"
      ],
      "metadata": {
        "colab": {
          "base_uri": "https://localhost:8080/"
        },
        "id": "-lQq5s2I7QoP",
        "outputId": "0d0973d5-8756-4df5-cf23-a2458b77293f"
      },
      "execution_count": 18,
      "outputs": [
        {
          "output_type": "stream",
          "name": "stdout",
          "text": [
            "5\n"
          ]
        }
      ]
    },
    {
      "cell_type": "markdown",
      "source": [
        "# Practical Questions\n",
        "\n",
        "---\n",
        "\n",
        "\n",
        "\n",
        "\n"
      ],
      "metadata": {
        "id": "4zKz_pFe7_L2"
      }
    },
    {
      "cell_type": "markdown",
      "source": [
        "1. Create a parent class Animal with a method speak() that prints a generic message. Create a child class Dog that overrides the speak() method to print \"Bark!\""
      ],
      "metadata": {
        "id": "v6aC8Tcj8HuV"
      }
    },
    {
      "cell_type": "code",
      "source": [
        "class Animal:\n",
        "    def speak(self):\n",
        "        print(\"Animal makes a sound\")\n",
        "\n",
        "class Dog(Animal):\n",
        "    def speak(self):\n",
        "        print(\"Bark!\")\n",
        "\n",
        "dog = Dog()\n",
        "dog.speak()  # Output: Bark!\n"
      ],
      "metadata": {
        "colab": {
          "base_uri": "https://localhost:8080/"
        },
        "id": "yKiQT8ez8WRq",
        "outputId": "c44806e3-749c-4378-e784-61df4e22da14"
      },
      "execution_count": 19,
      "outputs": [
        {
          "output_type": "stream",
          "name": "stdout",
          "text": [
            "Bark!\n"
          ]
        }
      ]
    },
    {
      "cell_type": "markdown",
      "source": [
        "2. Write a program to create an abstract class Shape with a method area(). Derive classes Circle and Rectangle from it and implernent the area() method in both."
      ],
      "metadata": {
        "id": "2xw2uV0d8Jk4"
      }
    },
    {
      "cell_type": "code",
      "source": [
        "from abc import ABC, abstractmethod\n",
        "import math\n",
        "\n",
        "class Shape(ABC):\n",
        "    @abstractmethod\n",
        "    def area(self):\n",
        "        pass\n",
        "\n",
        "class Circle(Shape):\n",
        "    def __init__(self, radius):\n",
        "        self.radius = radius\n",
        "\n",
        "    def area(self):\n",
        "        return math.pi * self.radius ** 2\n",
        "\n",
        "class Rectangle(Shape):\n",
        "    def __init__(self, length, width):\n",
        "        self.length = length\n",
        "        self.width = width\n",
        "\n",
        "    def area(self):\n",
        "        return self.length * self.width\n",
        "\n",
        "c = Circle(5)\n",
        "r = Rectangle(4, 6)\n",
        "print(\"Circle Area:\", c.area())\n",
        "print(\"Rectangle Area:\", r.area())\n"
      ],
      "metadata": {
        "colab": {
          "base_uri": "https://localhost:8080/"
        },
        "id": "7_q3p86V8ZFU",
        "outputId": "ecaed09f-49bc-4aa5-9531-da67c81ff761"
      },
      "execution_count": 20,
      "outputs": [
        {
          "output_type": "stream",
          "name": "stdout",
          "text": [
            "Circle Area: 78.53981633974483\n",
            "Rectangle Area: 24\n"
          ]
        }
      ]
    },
    {
      "cell_type": "markdown",
      "source": [
        "3. implement a multi-level inheritance scenario where a class Vehicle has an attribute type. Derive a class Car and further derive a class ElectricCar that adds a battery attribute."
      ],
      "metadata": {
        "id": "fB-SeVMI8MY9"
      }
    },
    {
      "cell_type": "code",
      "source": [
        "class Vehicle:\n",
        "    def __init__(self, type):\n",
        "        self.type = type\n",
        "\n",
        "class Car(Vehicle):\n",
        "    def __init__(self, type, brand):\n",
        "        super().__init__(type)\n",
        "        self.brand = brand\n",
        "\n",
        "class ElectricCar(Car):\n",
        "    def __init__(self, type, brand, battery):\n",
        "        super().__init__(type, brand)\n",
        "        self.battery = battery\n",
        "\n",
        "e_car = ElectricCar(\"4-wheeler\", \"Tesla\", \"100 kWh\")\n",
        "print(e_car.type, e_car.brand, e_car.battery)\n"
      ],
      "metadata": {
        "colab": {
          "base_uri": "https://localhost:8080/"
        },
        "id": "2oMmu_xk8bZg",
        "outputId": "3caf517e-2d38-4e6c-e5dd-1d4b22db2098"
      },
      "execution_count": 21,
      "outputs": [
        {
          "output_type": "stream",
          "name": "stdout",
          "text": [
            "4-wheeler Tesla 100 kWh\n"
          ]
        }
      ]
    },
    {
      "cell_type": "markdown",
      "source": [
        "4. Demonstrate polymorphism by creating a base class Bird with a method fly(). Create two derived classes Sparrow and Penguin that override the fly() method."
      ],
      "metadata": {
        "id": "yQXSKKOI8NCG"
      }
    },
    {
      "cell_type": "code",
      "source": [
        "class Bird:\n",
        "    def fly(self):\n",
        "        print(\"Some birds fly\")\n",
        "\n",
        "class Sparrow(Bird):\n",
        "    def fly(self):\n",
        "        print(\"Sparrow flies high\")\n",
        "\n",
        "class Penguin(Bird):\n",
        "    def fly(self):\n",
        "        print(\"Penguins cannot fly\")\n",
        "\n",
        "def bird_fly(bird):\n",
        "    bird.fly()\n",
        "\n",
        "bird_fly(Sparrow())\n",
        "bird_fly(Penguin())\n"
      ],
      "metadata": {
        "colab": {
          "base_uri": "https://localhost:8080/"
        },
        "id": "0MX3ULYb8exJ",
        "outputId": "5a86adb7-784d-47f7-be5f-5f3a3efb29b4"
      },
      "execution_count": 22,
      "outputs": [
        {
          "output_type": "stream",
          "name": "stdout",
          "text": [
            "Sparrow flies high\n",
            "Penguins cannot fly\n"
          ]
        }
      ]
    },
    {
      "cell_type": "markdown",
      "source": [
        "5. Write a program to demonstrate encapsulation by creating a class BankAccount with private attributes balance and methods to deposit, withdraw, and check balance."
      ],
      "metadata": {
        "id": "4uN5Gmez8O6m"
      }
    },
    {
      "cell_type": "code",
      "source": [
        "class BankAccount:\n",
        "    def __init__(self):\n",
        "        self.__balance = 0\n",
        "\n",
        "    def deposit(self, amount):\n",
        "        if amount > 0:\n",
        "            self.__balance += amount\n",
        "\n",
        "    def withdraw(self, amount):\n",
        "        if 0 < amount <= self.__balance:\n",
        "            self.__balance -= amount\n",
        "        else:\n",
        "            print(\"Insufficient balance\")\n",
        "\n",
        "    def check_balance(self):\n",
        "        return self.__balance\n",
        "\n",
        "acc = BankAccount()\n",
        "acc.deposit(1000)\n",
        "acc.withdraw(200)\n",
        "print(\"Balance:\", acc.check_balance())\n"
      ],
      "metadata": {
        "colab": {
          "base_uri": "https://localhost:8080/"
        },
        "id": "UfSNG9jC8gx4",
        "outputId": "6dbd2ba3-7824-4a28-f354-6ed3a32c0b26"
      },
      "execution_count": 23,
      "outputs": [
        {
          "output_type": "stream",
          "name": "stdout",
          "text": [
            "Balance: 800\n"
          ]
        }
      ]
    },
    {
      "cell_type": "markdown",
      "source": [
        "6. Demonstrate runtime polymorphism using a method play() in a base class Instrument. Derive classes Guitar and Piano that implement their own version of play()"
      ],
      "metadata": {
        "id": "HOjeuQA28QYx"
      }
    },
    {
      "cell_type": "code",
      "source": [
        "class Instrument:\n",
        "    def play(self):\n",
        "        print(\"Instrument is playing\")\n",
        "\n",
        "class Guitar(Instrument):\n",
        "    def play(self):\n",
        "        print(\"Strumming the guitar\")\n",
        "\n",
        "class Piano(Instrument):\n",
        "    def play(self):\n",
        "        print(\"Playing the piano\")\n",
        "\n",
        "def start_music(inst):\n",
        "    inst.play()\n",
        "\n",
        "start_music(Guitar())\n",
        "start_music(Piano())\n"
      ],
      "metadata": {
        "colab": {
          "base_uri": "https://localhost:8080/"
        },
        "id": "MOGy6BoJ8i06",
        "outputId": "0dac164b-cda5-45a2-cb5a-4691ee6b791d"
      },
      "execution_count": 24,
      "outputs": [
        {
          "output_type": "stream",
          "name": "stdout",
          "text": [
            "Strumming the guitar\n",
            "Playing the piano\n"
          ]
        }
      ]
    },
    {
      "cell_type": "markdown",
      "source": [
        "7. Create a class MathOperations with a class method add_numbers() to add two numbers and a static method subtract_numbers() to subtract two numbers."
      ],
      "metadata": {
        "id": "8cEEkhLL8SbL"
      }
    },
    {
      "cell_type": "code",
      "source": [
        "class MathOperations:\n",
        "    @classmethod\n",
        "    def add_numbers(cls, a, b):\n",
        "        return a + b\n",
        "\n",
        "    @staticmethod\n",
        "    def subtract_numbers(a, b):\n",
        "        return a - b\n",
        "\n",
        "print(\"Add:\", MathOperations.add_numbers(10, 5))\n",
        "print(\"Subtract:\", MathOperations.subtract_numbers(10, 5))\n"
      ],
      "metadata": {
        "colab": {
          "base_uri": "https://localhost:8080/"
        },
        "id": "mdkqlATp8kjh",
        "outputId": "c228ee81-9f45-47fc-d88f-0da156601cd3"
      },
      "execution_count": 25,
      "outputs": [
        {
          "output_type": "stream",
          "name": "stdout",
          "text": [
            "Add: 15\n",
            "Subtract: 5\n"
          ]
        }
      ]
    },
    {
      "cell_type": "markdown",
      "source": [
        "8. Implement a class Person with a class method to count the total number of persons created."
      ],
      "metadata": {
        "id": "t2zJEs768T4l"
      }
    },
    {
      "cell_type": "code",
      "source": [
        "class Person:\n",
        "    count = 0\n",
        "\n",
        "    def __init__(self, name):\n",
        "        self.name = name\n",
        "        Person.count += 1\n",
        "\n",
        "    @classmethod\n",
        "    def get_count(cls):\n",
        "        return cls.count\n",
        "\n",
        "p1 = Person(\"Alice\")\n",
        "p2 = Person(\"Bob\")\n",
        "p3 = Person(\"Charlie\")\n",
        "\n",
        "print(\"Total Persons:\", Person.get_count())\n"
      ],
      "metadata": {
        "colab": {
          "base_uri": "https://localhost:8080/"
        },
        "id": "BwVdmu7t8mxU",
        "outputId": "d2ecf4bf-2c48-40da-f95a-15b3d6aa0fc7"
      },
      "execution_count": 26,
      "outputs": [
        {
          "output_type": "stream",
          "name": "stdout",
          "text": [
            "Total Persons: 3\n"
          ]
        }
      ]
    },
    {
      "cell_type": "markdown",
      "source": [
        "9. Write a class Fraction with attributes numerator and denominator. Override the str method to display the fraction as 'numerator/denominator"
      ],
      "metadata": {
        "id": "ZHZbWESY8qIP"
      }
    },
    {
      "cell_type": "code",
      "source": [
        "class Fraction:\n",
        "    def __init__(self, numerator, denominator):\n",
        "        self.numerator = numerator\n",
        "        self.denominator = denominator\n",
        "\n",
        "    def __str__(self):\n",
        "        return f\"{self.numerator}/{self.denominator}\"\n",
        "\n",
        "f = Fraction(3, 4)\n",
        "print(f)  # Output: 3/4\n"
      ],
      "metadata": {
        "colab": {
          "base_uri": "https://localhost:8080/"
        },
        "id": "GIzbFKBp80PW",
        "outputId": "61c6e41c-f870-4aa3-be80-11525a68627d"
      },
      "execution_count": 27,
      "outputs": [
        {
          "output_type": "stream",
          "name": "stdout",
          "text": [
            "3/4\n"
          ]
        }
      ]
    },
    {
      "cell_type": "markdown",
      "source": [
        "10. Demonstrate operator overloading by creating a class Vector and overriding the add method to add two vectors"
      ],
      "metadata": {
        "id": "7_Ytpar38qvO"
      }
    },
    {
      "cell_type": "code",
      "source": [
        "class Vector:\n",
        "    def __init__(self, x, y):\n",
        "        self.x = x\n",
        "        self.y = y\n",
        "\n",
        "    def __add__(self, other):\n",
        "        return Vector(self.x + other.x, self.y + other.y)\n",
        "\n",
        "    def __str__(self):\n",
        "        return f\"({self.x}, {self.y})\"\n",
        "\n",
        "v1 = Vector(2, 3)\n",
        "v2 = Vector(4, 5)\n",
        "v3 = v1 + v2\n",
        "print(v3)  # Output: (6, 8)\n"
      ],
      "metadata": {
        "colab": {
          "base_uri": "https://localhost:8080/"
        },
        "id": "ELlzUu4o83JB",
        "outputId": "2807170b-0809-4717-edb6-319bfd691ee7"
      },
      "execution_count": 28,
      "outputs": [
        {
          "output_type": "stream",
          "name": "stdout",
          "text": [
            "(6, 8)\n"
          ]
        }
      ]
    },
    {
      "cell_type": "markdown",
      "source": [
        "11. Create a class Person with attributes name and age. Add a method greet() that prints \"Hello, my name is (name) and i am (age) years old.\""
      ],
      "metadata": {
        "id": "C_12OnhS8sP0"
      }
    },
    {
      "cell_type": "code",
      "source": [
        "class Person:\n",
        "    def __init__(self, name, age):\n",
        "        self.name = name\n",
        "        self.age = age\n",
        "\n",
        "    def greet(self):\n",
        "        print(f\"Hello, my name is {self.name} and I am {self.age} years old.\")\n",
        "\n",
        "p = Person(\"Dhiraj\", 25)\n",
        "p.greet()\n"
      ],
      "metadata": {
        "colab": {
          "base_uri": "https://localhost:8080/"
        },
        "id": "IAe6Kpio85UD",
        "outputId": "44ad73dd-8e67-4a7c-ee3d-b3532b3d37ca"
      },
      "execution_count": 29,
      "outputs": [
        {
          "output_type": "stream",
          "name": "stdout",
          "text": [
            "Hello, my name is Dhiraj and I am 25 years old.\n"
          ]
        }
      ]
    },
    {
      "cell_type": "markdown",
      "source": [
        "12. implement a class Student with attributes name and grades. Create a method average_grade() to compute the average of the grades."
      ],
      "metadata": {
        "id": "7a_jb6NT8tpR"
      }
    },
    {
      "cell_type": "code",
      "source": [
        "class Student:\n",
        "    def __init__(self, name, grades):\n",
        "        self.name = name\n",
        "        self.grades = grades\n",
        "\n",
        "    def average_grade(self):\n",
        "        return sum(self.grades) / len(self.grades)\n",
        "\n",
        "s = Student(\"Amit\", [85, 90, 78])\n",
        "print(f\"Average Grade: {s.average_grade():.2f}\")\n"
      ],
      "metadata": {
        "colab": {
          "base_uri": "https://localhost:8080/"
        },
        "id": "JvLPVQ4087Ma",
        "outputId": "a38cce27-13e6-4060-c76e-328efbc30cfa"
      },
      "execution_count": 31,
      "outputs": [
        {
          "output_type": "stream",
          "name": "stdout",
          "text": [
            "Average Grade: 84.33\n"
          ]
        }
      ]
    },
    {
      "cell_type": "markdown",
      "source": [
        "13. Create a class Rectangle with methods set dimensions() to set the dimensions and area() to calculate the area"
      ],
      "metadata": {
        "id": "bvtmoH0h8vIv"
      }
    },
    {
      "cell_type": "code",
      "source": [
        "class Rectangle:\n",
        "    def set_dimensions(self, length, width):\n",
        "        self.length = length\n",
        "        self.width = width\n",
        "\n",
        "    def area(self):\n",
        "        return self.length * self.width\n",
        "\n",
        "r = Rectangle()\n",
        "r.set_dimensions(10, 5)\n",
        "print(\"Area of Rectangle:\", r.area())\n",
        "\n"
      ],
      "metadata": {
        "colab": {
          "base_uri": "https://localhost:8080/"
        },
        "id": "P1g-8dcg9C0f",
        "outputId": "4f5f04dc-6ea3-42d3-a552-0bccf946d8ee"
      },
      "execution_count": 32,
      "outputs": [
        {
          "output_type": "stream",
          "name": "stdout",
          "text": [
            "Area of Rectangle: 50\n"
          ]
        }
      ]
    },
    {
      "cell_type": "markdown",
      "source": [
        "14. Create a class Employee with a method calculate salary() that computes the salary based on hours worked and hourly rate. Create a derived class Manager that adds a bonus to the salary."
      ],
      "metadata": {
        "id": "Va3fQXEl8wq-"
      }
    },
    {
      "cell_type": "code",
      "source": [
        "class Employee:\n",
        "    def calculate_salary(self, hours_worked, hourly_rate):\n",
        "        return hours_worked * hourly_rate\n",
        "\n",
        "class Manager(Employee):\n",
        "    def __init__(self, bonus):\n",
        "        self.bonus = bonus\n",
        "\n",
        "    def calculate_salary(self, hours_worked, hourly_rate):\n",
        "        base_salary = super().calculate_salary(hours_worked, hourly_rate)\n",
        "        return base_salary + self.bonus\n",
        "\n",
        "emp = Employee()\n",
        "mgr = Manager(bonus=1000)\n",
        "\n",
        "print(\"Employee Salary:\", emp.calculate_salary(40, 50))\n",
        "print(\"Manager Salary:\", mgr.calculate_salary(40, 50))\n"
      ],
      "metadata": {
        "colab": {
          "base_uri": "https://localhost:8080/"
        },
        "id": "ow5hmyON9FIT",
        "outputId": "43abeab1-9581-49c7-82b3-848f322dfdc1"
      },
      "execution_count": 33,
      "outputs": [
        {
          "output_type": "stream",
          "name": "stdout",
          "text": [
            "Employee Salary: 2000\n",
            "Manager Salary: 3000\n"
          ]
        }
      ]
    },
    {
      "cell_type": "markdown",
      "source": [
        "15. Create a class Product with attributes name, price, and quantity, implement a method total price() that calculates the totul price of the product."
      ],
      "metadata": {
        "id": "jN45sFKy9K6O"
      }
    },
    {
      "cell_type": "code",
      "source": [
        "class Product:\n",
        "    def __init__(self, name, price, quantity):\n",
        "        self.name = name\n",
        "        self.price = price\n",
        "        self.quantity = quantity\n",
        "\n",
        "    def total_price(self):\n",
        "        return self.price * self.quantity\n",
        "\n",
        "p = Product(\"Laptop\", 50000, 2)\n",
        "print(f\"Total price of {p.name}: ₹{p.total_price()}\")\n"
      ],
      "metadata": {
        "colab": {
          "base_uri": "https://localhost:8080/"
        },
        "id": "qbl8dPuO9aGi",
        "outputId": "721cec4f-b651-4257-b1af-f2fae9a070f9"
      },
      "execution_count": 37,
      "outputs": [
        {
          "output_type": "stream",
          "name": "stdout",
          "text": [
            "Total price of Laptop: ₹100000\n"
          ]
        }
      ]
    },
    {
      "cell_type": "markdown",
      "source": [
        "16. Create a class Animal with an abstract method sound(). Create two derived classes Cow and Sheep that implement the sound() method."
      ],
      "metadata": {
        "id": "TXu2OoLn9LwV"
      }
    },
    {
      "cell_type": "code",
      "source": [
        "from abc import ABC, abstractmethod\n",
        "\n",
        "class Animal(ABC):\n",
        "    @abstractmethod\n",
        "    def sound(self):\n",
        "        pass\n",
        "\n",
        "class Cow(Animal):\n",
        "    def sound(self):\n",
        "        print(\"Moo\")\n",
        "\n",
        "class Sheep(Animal):\n",
        "    def sound(self):\n",
        "        print(\"Baa\")\n",
        "\n",
        "c = Cow()\n",
        "s = Sheep()\n",
        "c.sound()  # Output: Moo\n",
        "s.sound()  # Output: Baa\n"
      ],
      "metadata": {
        "colab": {
          "base_uri": "https://localhost:8080/"
        },
        "id": "NjeN-CDe9W_z",
        "outputId": "ebfb02db-21c8-46c8-c9d9-3db63ebbbb70"
      },
      "execution_count": 36,
      "outputs": [
        {
          "output_type": "stream",
          "name": "stdout",
          "text": [
            "Moo\n",
            "Baa\n"
          ]
        }
      ]
    },
    {
      "cell_type": "markdown",
      "source": [
        "17. Create a class Book with attributes title, author, and year published. Add a method get_book_info() that returns a formatted string with the book's details\n"
      ],
      "metadata": {
        "id": "JsvndgRQ9NR0"
      }
    },
    {
      "cell_type": "code",
      "source": [
        "class Book:\n",
        "    def __init__(self, title, author, year_published):\n",
        "        self.title = title\n",
        "        self.author = author\n",
        "        self.year_published = year_published\n",
        "\n",
        "    def get_book_info(self):\n",
        "        return f\"'{self.title}' by {self.author}, published in {self.year_published}\"\n",
        "\n",
        "b = Book(\"The Alchemist\", \"Paulo Coelho\", 1988)\n",
        "print(b.get_book_info())\n"
      ],
      "metadata": {
        "colab": {
          "base_uri": "https://localhost:8080/"
        },
        "id": "VzTUMmGE9Tk4",
        "outputId": "40ef44c3-359b-4a2c-b551-2a3048639c07"
      },
      "execution_count": 35,
      "outputs": [
        {
          "output_type": "stream",
          "name": "stdout",
          "text": [
            "'The Alchemist' by Paulo Coelho, published in 1988\n"
          ]
        }
      ]
    },
    {
      "cell_type": "markdown",
      "source": [
        "\n",
        "18. Create a class House with attributes address and price. Create a derived class Mansion that adds an ottribute number of rooms"
      ],
      "metadata": {
        "id": "ElpMkV8A9O1k"
      }
    },
    {
      "cell_type": "code",
      "source": [
        "class House:\n",
        "    def __init__(self, address, price):\n",
        "        self.address = address\n",
        "        self.price = price\n",
        "\n",
        "class Mansion(House):\n",
        "    def __init__(self, address, price, number_of_rooms):\n",
        "        super().__init__(address, price)\n",
        "        self.number_of_rooms = number_of_rooms\n",
        "\n",
        "m = Mansion(\"Beverly Hills\", 100000000, 12)\n",
        "print(f\"Mansion at {m.address} costs ₹{m.price} and has {m.number_of_rooms} rooms.\")\n"
      ],
      "metadata": {
        "colab": {
          "base_uri": "https://localhost:8080/"
        },
        "id": "cPYLl9L99RAB",
        "outputId": "3a86671e-02e8-46da-d17c-48238c180eaf"
      },
      "execution_count": 34,
      "outputs": [
        {
          "output_type": "stream",
          "name": "stdout",
          "text": [
            "Mansion at Beverly Hills costs ₹100000000 and has 12 rooms.\n"
          ]
        }
      ]
    },
    {
      "cell_type": "code",
      "source": [],
      "metadata": {
        "id": "kNQoVgaP9TAA"
      },
      "execution_count": null,
      "outputs": []
    }
  ]
}